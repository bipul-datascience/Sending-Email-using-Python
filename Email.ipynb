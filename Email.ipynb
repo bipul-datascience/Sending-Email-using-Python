{
 "cells": [
  {
   "cell_type": "markdown",
   "id": "4aa988be-0eda-42d4-b8f1-e655bce55145",
   "metadata": {},
   "source": [
    "## Email Sending"
   ]
  },
  {
   "cell_type": "markdown",
   "id": "4bfda0cf-8de5-4c2f-9886-54860d0e41b1",
   "metadata": {},
   "source": [
    "### Before sending email necessary step\n",
    "1. type in google chrome my google account security and go to the security page\n",
    "2. Turn off this two Options 'Use your phone to sign in' and'2-Step Verification'\n",
    "3. Turn on 'Less secure app access'\n",
    "##### if not send then one Extra step \n",
    "4. type in google chrome 'display unlock Captcha' and 'Allow access to your Google account' click on 'Continue'."
   ]
  },
  {
   "cell_type": "markdown",
   "id": "a064c704-e6a5-44d2-ac03-9fa3bd1cc8a8",
   "metadata": {},
   "source": [
    "### Sending Plain Text"
   ]
  },
  {
   "cell_type": "code",
   "execution_count": 2,
   "id": "af6c8018-9438-4f92-ad6a-7dafb5e3da76",
   "metadata": {},
   "outputs": [
    {
     "data": {
      "text/plain": [
       "(221,\n",
       " b'2.0.0 closing connection c34-20020a630d22000000b0034cb89e4695sm8914854pgl.28 - gsmtp')"
      ]
     },
     "execution_count": 2,
     "metadata": {},
     "output_type": "execute_result"
    }
   ],
   "source": [
    "import smtplib, ssl\n",
    "from email.message import EmailMessage\n",
    "\n",
    "msg =EmailMessage()\n",
    "msg['Subject'] = 'Training Invitation'\n",
    "msg['From'] = 'bipul.upflairs@gmail.com'\n",
    "msg['To'] = 'bipul.nath1998@gmail.com'\n",
    "msg.set_content('New Test Email from Upflairs Bipul')\n",
    "\n",
    "server = smtplib.SMTP_SSL('smtp.gmail.com',465)\n",
    "server.login('bipul.upflairs@gmail.com','passwrd123')\n",
    "server.send_message(msg)\n",
    "server.quit()"
   ]
  },
  {
   "cell_type": "markdown",
   "id": "97a7f246-a0f9-4cf5-b8eb-25a99e48a8ee",
   "metadata": {},
   "source": [
    "## What is SMTP ?\n",
    "##### SMTP - Simple Mail Transfer Protocol, typically it is a server which help to send and recive mail message. "
   ]
  },
  {
   "cell_type": "markdown",
   "id": "dd56480b-358a-4117-ac9c-2f5417668709",
   "metadata": {},
   "source": [
    "### what is smtp port ?\n",
    "##### A “port” is another way to help computers (like two mail servers) communicate with one another, it is like an address or dns"
   ]
  },
  {
   "cell_type": "markdown",
   "id": "3e4e2d8b-d8b2-4959-b7ed-de18dcf9dcca",
   "metadata": {},
   "source": [
    "## Sending Attachments"
   ]
  },
  {
   "cell_type": "code",
   "execution_count": 3,
   "id": "7d3e079a-aa0d-4dfb-82c7-a1b9b373775f",
   "metadata": {},
   "outputs": [
    {
     "data": {
      "text/plain": [
       "(221,\n",
       " b'2.0.0 closing connection o17-20020a639a11000000b0038160e4a2f7sm2252714pge.48 - gsmtp')"
      ]
     },
     "execution_count": 3,
     "metadata": {},
     "output_type": "execute_result"
    }
   ],
   "source": [
    "#sending an image\n",
    "\n",
    "import smtplib, ssl\n",
    "import imghdr\n",
    "from email.message import EmailMessage\n",
    "\n",
    "msg =EmailMessage()\n",
    "msg['Subject'] = 'Training Invitation'\n",
    "msg['From'] = 'bipul.upflairs@gmail.com'\n",
    "msg['To'] = 'bipul.nath1998@gmail.com'\n",
    "msg.set_content('New Test Email from Upflairs Bipul')\n",
    "\n",
    "#for image attachment\n",
    "f=open(r'C:\\Users\\Bipul\\Desktop\\Python\\Email Sending\\AIvsMLvsDLvsDS.png','rb')\n",
    "file_data = f.read()\n",
    "file_type = imghdr.what(f.name)\n",
    "file_name = f.name\n",
    "\n",
    "msg.add_attachment(file_data, maintype='image',subtype=file_type,filename=file_name)\n",
    "\n",
    "server = smtplib.SMTP_SSL('smtp.gmail.com',465)\n",
    "server.login('bipul.upflairs@gmail.com','passwrd123')\n",
    "server.send_message(msg)\n",
    "server.quit()"
   ]
  },
  {
   "cell_type": "markdown",
   "id": "14c5450c-234d-4f1f-b62e-c1b8a7d1c4b8",
   "metadata": {},
   "source": [
    "## Sending a pdf"
   ]
  },
  {
   "cell_type": "code",
   "execution_count": 4,
   "id": "5e0c8f40-a08d-4732-adf8-95fae4ed8090",
   "metadata": {},
   "outputs": [
    {
     "data": {
      "text/plain": [
       "(221,\n",
       " b'2.0.0 closing connection j3-20020a056a00234300b004fa042e8216sm2835326pfj.2 - gsmtp')"
      ]
     },
     "execution_count": 4,
     "metadata": {},
     "output_type": "execute_result"
    }
   ],
   "source": [
    "### Sending a pdf\n",
    "\n",
    "import smtplib, ssl\n",
    "import imghdr\n",
    "from email.message import EmailMessage\n",
    "\n",
    "msg =EmailMessage()\n",
    "msg['Subject'] = 'Training Invitation'\n",
    "msg['From'] = 'bipul.upflairs@gmail.com'\n",
    "msg['To'] = 'bipul.nath1998@gmail.com'\n",
    "msg.set_content('New Test Email from Upflairs Bipul')\n",
    "\n",
    "#for pdf attachment\n",
    "f=open(r'C:\\Users\\Bipul\\Desktop\\Python\\Email Sending\\Machine-Learnin-Data-Science-Up Flairs.pdf','rb')\n",
    "file_data = f.read()\n",
    "#file_type = imghdr.what(f.name)\n",
    "file_name = f.name\n",
    "\n",
    "msg.add_attachment(file_data, maintype='application',subtype='octet-stream',filename=file_name)\n",
    "\n",
    "server = smtplib.SMTP_SSL('smtp.gmail.com',465)\n",
    "server.login('bipul.upflairs@gmail.com','passwrd123')\n",
    "server.send_message(msg)\n",
    "server.quit()"
   ]
  },
  {
   "cell_type": "markdown",
   "id": "32d7a4c5-d836-43bf-a8c6-5e34fa28d1a5",
   "metadata": {},
   "source": [
    "## Sending a doc file"
   ]
  },
  {
   "cell_type": "code",
   "execution_count": 5,
   "id": "17e9dbf8-139e-4d84-b148-8e8b8c059ad4",
   "metadata": {},
   "outputs": [
    {
     "data": {
      "text/plain": [
       "(221,\n",
       " b'2.0.0 closing connection c18-20020a056a000ad200b004f0f9696578sm3060079pfl.141 - gsmtp')"
      ]
     },
     "execution_count": 5,
     "metadata": {},
     "output_type": "execute_result"
    }
   ],
   "source": [
    "### Sending a doc(same as pdf)\n",
    "\n",
    "import smtplib, ssl\n",
    "import imghdr\n",
    "from email.message import EmailMessage\n",
    "\n",
    "msg =EmailMessage()\n",
    "msg['Subject'] = 'Training Invitation'\n",
    "msg['From'] = 'bipul.upflairs@gmail.com'\n",
    "msg['To'] = 'bipul.nath1998@gmail.com'\n",
    "msg.set_content('New Test Email from Upflairs Bipul')\n",
    "\n",
    "#for doc attachment\n",
    "f=open(r'C:\\Users\\Bipul\\Desktop\\Python\\Email Sending\\UF-ML-SITP22 (Machine Learning with Data Science).docx','rb')\n",
    "file_data = f.read()\n",
    "#file_type = imghdr.what(f.name)\n",
    "file_name = f.name\n",
    "\n",
    "msg.add_attachment(file_data, maintype='application',subtype='octet-stream',filename=file_name)\n",
    "\n",
    "server = smtplib.SMTP_SSL('smtp.gmail.com',465)\n",
    "server.login('bipul.upflairs@gmail.com','passwrd123')\n",
    "server.send_message(msg)\n",
    "server.quit()"
   ]
  },
  {
   "cell_type": "markdown",
   "id": "1a3e4e30-9700-49d3-bbbb-5ac5ebf5ae4e",
   "metadata": {},
   "source": [
    "## send same email to multiple recipient"
   ]
  },
  {
   "cell_type": "code",
   "execution_count": 6,
   "id": "daa8bf83-19d0-4d5c-9ae9-61ad4b4b6af0",
   "metadata": {},
   "outputs": [
    {
     "data": {
      "text/plain": [
       "(221,\n",
       " b'2.0.0 closing connection i128-20020a639d86000000b00381f29d87aasm1294081pgd.92 - gsmtp')"
      ]
     },
     "execution_count": 6,
     "metadata": {},
     "output_type": "execute_result"
    }
   ],
   "source": [
    "#How to send same email to multiple recipient\n",
    "\n",
    "import smtplib, ssl\n",
    "import imghdr\n",
    "from email.message import EmailMessage\n",
    "\n",
    "recipient_lst = ['bipul.nath1998@gmail.com','bipulchbb@gmail.com','chbb.band2018@gmail.com']\n",
    "\n",
    "msg =EmailMessage()\n",
    "msg['Subject'] = 'Training Invitation'\n",
    "msg['From'] = 'bipul.upflairs@gmail.com'\n",
    "msg['To'] = recipient_lst\n",
    "msg.set_content('New Test Email from Upflairs Bipul')\n",
    "\n",
    "#for doc attachment\n",
    "f=open(r'C:\\Users\\Bipul\\Desktop\\Python\\Email Sending\\UF-ML-SITP22 (Machine Learning with Data Science).docx','rb')\n",
    "file_data = f.read()\n",
    "#file_type = imghdr.what(f.name)\n",
    "file_name = f.name\n",
    "\n",
    "msg.add_attachment(file_data, maintype='application',subtype='octet-stream',filename=file_name)\n",
    "\n",
    "server = smtplib.SMTP_SSL('smtp.gmail.com',465)\n",
    "server.login('bipul.upflairs@gmail.com','passwrd123')\n",
    "server.send_message(msg)\n",
    "server.quit()"
   ]
  },
  {
   "cell_type": "markdown",
   "id": "a52a19c9-62f9-4fde-91e7-c95b9c7fdb8d",
   "metadata": {},
   "source": [
    "## Sending multiple attachment"
   ]
  },
  {
   "cell_type": "code",
   "execution_count": 7,
   "id": "7759d06a-cfef-4f5e-8a8a-c05d727bd7e5",
   "metadata": {},
   "outputs": [
    {
     "data": {
      "text/plain": [
       "(221,\n",
       " b'2.0.0 closing connection il7-20020a17090b164700b001bfc017a0adsm6808670pjb.37 - gsmtp')"
      ]
     },
     "execution_count": 7,
     "metadata": {},
     "output_type": "execute_result"
    }
   ],
   "source": [
    "### Sending multiple attachment\n",
    "\n",
    "\n",
    "import smtplib, ssl\n",
    "import imghdr\n",
    "from email.message import EmailMessage\n",
    "\n",
    "msg =EmailMessage()\n",
    "msg['Subject'] = 'Training Invitation'\n",
    "msg['From'] = 'bipul.upflairs@gmail.com'\n",
    "msg['To'] = 'bipul.nath1998@gmail.com'\n",
    "msg.set_content('New Test Email from Upflairs Bipul')\n",
    "\n",
    "#for image attachment\n",
    "\n",
    "files=['holi1.jpeg','holi2.jpeg']\n",
    "for file in files:\n",
    "    with open(file,'rb') as f:\n",
    "        file_data =f.read()\n",
    "        file_type = imghdr.what(f.name)\n",
    "        file_name = f.name\n",
    "    msg.add_attachment(file_data, maintype='image',subtype=file_type,filename=file_name)\n",
    "\n",
    "server = smtplib.SMTP_SSL('smtp.gmail.com',465)\n",
    "server.login('bipul.upflairs@gmail.com','passwrd123')\n",
    "server.send_message(msg)\n",
    "server.quit()"
   ]
  },
  {
   "cell_type": "code",
   "execution_count": null,
   "id": "654a2255-f196-4c60-af7b-8a2ac9e8701c",
   "metadata": {},
   "outputs": [],
   "source": []
  }
 ],
 "metadata": {
  "kernelspec": {
   "display_name": "Python 3",
   "language": "python",
   "name": "python3"
  },
  "language_info": {
   "codemirror_mode": {
    "name": "ipython",
    "version": 3
   },
   "file_extension": ".py",
   "mimetype": "text/x-python",
   "name": "python",
   "nbconvert_exporter": "python",
   "pygments_lexer": "ipython3",
   "version": "3.8.8"
  }
 },
 "nbformat": 4,
 "nbformat_minor": 5
}
